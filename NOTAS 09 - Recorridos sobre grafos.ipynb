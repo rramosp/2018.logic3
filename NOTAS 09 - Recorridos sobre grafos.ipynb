{
 "cells": [
  {
   "cell_type": "code",
   "execution_count": 1,
   "metadata": {
    "collapsed": true
   },
   "outputs": [],
   "source": [
    "import numpy as np\n",
    "import matplotlib.pyplot as plt\n",
    "import pandas as pd\n",
    "%matplotlib inline"
   ]
  },
  {
   "cell_type": "code",
   "execution_count": 126,
   "metadata": {
    "collapsed": true
   },
   "outputs": [],
   "source": [
    "EMPTY, WALL, TARGET, USED = \".\",\"X\",\"T\",\"o\"\n",
    "c  = pd.Series({\"EMPTY\": \".\", \"WALL\":\"X\", \"TARGET\":\"T\", \"USED\":\"o\"})\n",
    "ci = pd.Series({\".\": 0, \"X\": 255, \"T\":100, \"o\":200})\n",
    "\n",
    "def plot_map(grid,p=[]):\n",
    "    img = np.r_[[[ci[i] for i in j] for j in grid]]\n",
    "    plt.imshow(img, alpha=.5)\n",
    "    if(len(p)>0):\n",
    "        for i in range(len(p)-1):\n",
    "            plt.plot([p[i][1],p[i+1][1]],[p[i][0],p[i+1][0]], color=\"black\", lw=4)    \n",
    "        plt.title(\"path length = %d\"%len(p))\n",
    "        \n",
    "    plt.xticks(range(img.shape[1]), range(img.shape[1]))\n",
    "    plt.yticks(range(img.shape[0]), range(img.shape[0]))\n",
    "    \n",
    "def possible_moves(grid, y,x):\n",
    "    moves = [ [y,x+1], [y-1,x], [y,x-1], [y+1,x]]\n",
    "    \n",
    "    moves = [(my,mx) for my,mx in moves if mx>=0 and mx<len(grid[0]) and \\\n",
    "                                           my>=0 and my<len(grid) and grid[my][mx]!=c.WALL]    \n",
    "    return moves\n",
    "    "
   ]
  },
  {
   "cell_type": "code",
   "execution_count": 127,
   "metadata": {},
   "outputs": [
    {
     "data": {
      "image/png": "[encoded data removed]",
      "text/plain": [
       "<matplotlib.figure.Figure at 0xab4b580c>"
      ]
     },
     "metadata": {},
     "output_type": "display_data"
    }
   ],
   "source": [
    "grid = [\".....X\",\n",
    "        \"XX...X\",\n",
    "        \"...X..\",\n",
    "        \".XX..X\",\n",
    "        \".X...T\"]\n",
    "\n",
    "plot_map(grid)"
   ]
  },
  {
   "cell_type": "markdown",
   "metadata": {},
   "source": [
    "# Breath First Search\n",
    "\n",
    "This is **breadth first**. We put the initial node into the queue. Then repeat this procedure until visit the goal node or visit all available nodes: take the first from the queue, check if it was visited or not, check if it's the goal, put all neighbours in the end of the queue, repeat. For each step we track not only the nodes, but directions and the path for the current node too.\n",
    "\n",
    "- does it give the best answer?\n",
    "\n",
    "\n",
    "See [here](http://bryukh.com/labyrinth-algorithms/)."
   ]
  },
  {
   "cell_type": "code",
   "execution_count": 92,
   "metadata": {
    "collapsed": true
   },
   "outputs": [],
   "source": [
    "from collections import deque\n",
    "\n",
    "def bfs_search(grid, verbose=True):\n",
    "    n_iterations   = 0\n",
    "    max_queue_len  = 0\n",
    "    start = (0, 0)\n",
    "    queue = deque([([], start)])\n",
    "    visited = set()\n",
    "    while queue:\n",
    "        n_iterations += 1\n",
    "        max_queue_len = max_queue_len if len(queue) < max_queue_len else len(queue)\n",
    "        path, (y,x) = queue.popleft()\n",
    "        if grid[y][x] == c.TARGET:\n",
    "            if verbose:\n",
    "                print \"n_iterations %d, max_queue_len %d\"%(n_iterations, max_queue_len)\n",
    "            return path+[(y,x)]\n",
    "        if (y,x) in visited:\n",
    "            continue\n",
    "        visited.add((y,x))\n",
    "        for move in possible_moves(grid,y,x):\n",
    "            queue.append((path + [(y,x)], move))\n",
    "\n",
    "    return []"
   ]
  },
  {
   "cell_type": "code",
   "execution_count": 93,
   "metadata": {},
   "outputs": [
    {
     "name": "stdout",
     "output_type": "stream",
     "text": [
      "n_iterations 39, max_queue_len 8\n",
      "success True\n"
     ]
    },
    {
     "data": {
      "image/png": "[encoded data removed]",
      "text/plain": [
       "<matplotlib.figure.Figure at 0xabc061ec>"
      ]
     },
     "metadata": {},
     "output_type": "display_data"
    }
   ],
   "source": [
    "p=bfs_search(grid)\n",
    "print \"success\", len(p)>0\n",
    "plot_map(grid, p)"
   ]
  },
  {
   "cell_type": "code",
   "execution_count": 99,
   "metadata": {},
   "outputs": [
    {
     "name": "stdout",
     "output_type": "stream",
     "text": [
      "[(0, 0), (0, 1), (0, 2), (0, 3), (0, 4), (1, 4), (2, 4), (3, 4), (4, 4), (4, 5)]\n"
     ]
    }
   ],
   "source": [
    "print p"
   ]
  },
  {
   "cell_type": "markdown",
   "metadata": {},
   "source": [
    "# Depth First Search\n",
    "\n",
    "This is **depth first**. We simply use the other way around.\n",
    "\n",
    "- Does it give the best answer?\n",
    "- How is its computational complexity as compared with  BFS?"
   ]
  },
  {
   "cell_type": "code",
   "execution_count": 45,
   "metadata": {},
   "outputs": [],
   "source": [
    "from collections import deque\n",
    "\n",
    "def dfs_search(grid, verbose=True):\n",
    "    n_iterations   = 0\n",
    "    max_queue_len  = 0\n",
    "    start = (0, 0)\n",
    "    queue = deque([([], start)])\n",
    "    visited = set()\n",
    "    while queue:\n",
    "        n_iterations += 1\n",
    "        max_queue_len = max_queue_len if len(queue) < max_queue_len else len(queue)\n",
    "        path, (y,x) = queue.pop()\n",
    "        if grid[y][x] == c.TARGET:\n",
    "            if verbose:\n",
    "                print \"n_iterations %d, max_queue_len %d\"%(n_iterations, max_queue_len)\n",
    "            return path+[(y,x)]\n",
    "        if (y,x) in visited:\n",
    "            continue\n",
    "        visited.add((y,x))\n",
    "        for move in possible_moves(grid,y,x):\n",
    "            queue.append((path + [(y,x)], move))\n",
    "    return []"
   ]
  },
  {
   "cell_type": "code",
   "execution_count": 84,
   "metadata": {},
   "outputs": [
    {
     "name": "stdout",
     "output_type": "stream",
     "text": [
      "[(0, 1), (1, 0)]\n"
     ]
    },
    {
     "data": {
      "image/png": "[encoded data removed]",
      "text/plain": [
       "<matplotlib.figure.Figure at 0xab55c52c>"
      ]
     },
     "metadata": {},
     "output_type": "display_data"
    }
   ],
   "source": [
    "grid = generate_maze(size=(10,20))\n",
    "plot_map(grid)\n",
    "print possible_moves(grid, 1,1)"
   ]
  },
  {
   "cell_type": "code",
   "execution_count": 85,
   "metadata": {},
   "outputs": [
    {
     "name": "stdout",
     "output_type": "stream",
     "text": [
      "n_iterations 170, max_queue_len 52\n",
      "success True\n"
     ]
    },
    {
     "data": {
      "image/png": "[encoded data removed]",
      "text/plain": [
       "<matplotlib.figure.Figure at 0xaba7a4cc>"
      ]
     },
     "metadata": {},
     "output_type": "display_data"
    }
   ],
   "source": [
    "p=dfs_search(grid)\n",
    "print \"success\", len(p)>0\n",
    "plot_map(grid, p)"
   ]
  },
  {
   "cell_type": "code",
   "execution_count": 55,
   "metadata": {},
   "outputs": [
    {
     "data": {
      "image/png": "[encoded data removed]",
      "text/plain": [
       "<matplotlib.figure.Figure at 0xab8684cc>"
      ]
     },
     "metadata": {},
     "output_type": "display_data"
    }
   ],
   "source": [
    "def generate_maze(size):\n",
    "    grid = (np.random.random(size=size)>.7)*1\n",
    "    grid = [[c.WALL if grid[x,y] else c.EMPTY for y in range(grid.shape[1])] for x in range(grid.shape[0])]\n",
    "    grid[-1][-1]=c.TARGET\n",
    "    return grid\n",
    "grid = generate_maze(size=(30,50))\n",
    "plot_map(grid)"
   ]
  },
  {
   "cell_type": "code",
   "execution_count": 56,
   "metadata": {},
   "outputs": [
    {
     "name": "stdout",
     "output_type": "stream",
     "text": [
      "n_iterations 2934, max_queue_len 95\n",
      "success True\n",
      "1 loop, best of 3: 212 ms per loop\n"
     ]
    },
    {
     "data": {
      "image/png": "[encoded data removed]",
      "text/plain": [
       "<matplotlib.figure.Figure at 0xab4f496c>"
      ]
     },
     "metadata": {},
     "output_type": "display_data"
    }
   ],
   "source": [
    "p_bfs = bfs_search(grid)\n",
    "print \"success\", len(p_bfs)>0\n",
    "%timeit bfs_search(grid, verbose=False)\n",
    "plot_map(grid, p_bfs)"
   ]
  },
  {
   "cell_type": "code",
   "execution_count": 57,
   "metadata": {},
   "outputs": [
    {
     "name": "stdout",
     "output_type": "stream",
     "text": [
      "n_iterations 1628, max_queue_len 581\n",
      "success True\n",
      "1 loop, best of 3: 133 ms per loop\n"
     ]
    },
    {
     "data": {
      "image/png": "[encoded data removed]",
      "text/plain": [
       "<matplotlib.figure.Figure at 0xab46378c>"
      ]
     },
     "metadata": {},
     "output_type": "display_data"
    }
   ],
   "source": [
    "p_dfs = dfs_search(grid)\n",
    "print \"success\", len(p_dfs)>0\n",
    "%timeit dfs_search(grid, verbose=False)\n",
    "plot_map(grid, p_dfs)"
   ]
  },
  {
   "cell_type": "markdown",
   "metadata": {},
   "source": [
    "### let's shorten the answer of DFS\n",
    "\n",
    "- is it now the best answer?"
   ]
  },
  {
   "cell_type": "code",
   "execution_count": 58,
   "metadata": {
    "collapsed": true
   },
   "outputs": [],
   "source": [
    "pp = np.r_[p_dfs]\n",
    "i=0\n",
    "while i<len(pp):\n",
    "    for k in range(i+2, len(pp)):\n",
    "        if np.sum(np.abs(pp[i]-pp[k]))==1:\n",
    "            pp = np.concatenate((pp[:i+1], list(pp[k:])))\n",
    "            break\n",
    "    i+=1"
   ]
  },
  {
   "cell_type": "code",
   "execution_count": 59,
   "metadata": {},
   "outputs": [
    {
     "data": {
      "image/png": "[encoded data removed]",
      "text/plain": [
       "<matplotlib.figure.Figure at 0xabe4bd2c>"
      ]
     },
     "metadata": {},
     "output_type": "display_data"
    }
   ],
   "source": [
    "plot_map(grid, pp)"
   ]
  },
  {
   "cell_type": "markdown",
   "metadata": {},
   "source": [
    "observe computing times. larger mazes makes DFS more iterations (but slower due to data structures which should be improved)"
   ]
  },
  {
   "cell_type": "code",
   "execution_count": 13,
   "metadata": {},
   "outputs": [
    {
     "name": "stdout",
     "output_type": "stream",
     "text": [
      "10 loops, best of 3: 29.7 ms per loop\n",
      "10 loops, best of 3: 39.9 ms per loop\n",
      "bfs solution len 0\n",
      "dfs solution len 0\n"
     ]
    }
   ],
   "source": [
    "grid = generate_maze(size=(10,20))\n",
    "%timeit bfs_search(grid, verbose=False)\n",
    "%timeit dfs_search(grid, verbose=False)\n",
    "\n",
    "print \"bfs solution len\", len(bfs_search(grid))\n",
    "print \"dfs solution len\", len(dfs_search(grid))"
   ]
  },
  {
   "cell_type": "code",
   "execution_count": 15,
   "metadata": {},
   "outputs": [
    {
     "name": "stdout",
     "output_type": "stream",
     "text": [
      "10 loops, best of 3: 98.5 ms per loop\n",
      "10 loops, best of 3: 73.9 ms per loop\n",
      "bfs solution len n_iterations 1570, max_queue_len 72\n",
      "49\n",
      "dfs solution len n_iterations 903, max_queue_len 486\n",
      "337\n"
     ]
    }
   ],
   "source": [
    "grid = generate_maze(size=(20,30))\n",
    "%timeit bfs_search(grid, verbose=False)\n",
    "%timeit dfs_search(grid, verbose=False)\n",
    "\n",
    "print \"bfs solution len\", len(bfs_search(grid))\n",
    "print \"dfs solution len\", len(dfs_search(grid))"
   ]
  },
  {
   "cell_type": "code",
   "execution_count": 16,
   "metadata": {},
   "outputs": [
    {
     "name": "stdout",
     "output_type": "stream",
     "text": [
      "1 loop, best of 3: 357 ms per loop\n",
      "1 loop, best of 3: 322 ms per loop\n",
      "bfs solution len n_iterations 6224, max_queue_len 171\n",
      "99\n",
      "dfs solution len n_iterations 3574, max_queue_len 1560\n",
      "1111\n"
     ]
    }
   ],
   "source": [
    "grid = generate_maze(size=(50,50))\n",
    "%timeit bfs_search(grid, verbose=False)\n",
    "%timeit dfs_search(grid, verbose=False)\n",
    "\n",
    "print \"bfs solution len\", len(bfs_search(grid))\n",
    "print \"dfs solution len\", len(dfs_search(grid))"
   ]
  }
 ],
 "metadata": {
  "kernelspec": {
   "display_name": "Python 2",
   "language": "python",
   "name": "python2"
  },
  "language_info": {
   "codemirror_mode": {
    "name": "ipython",
    "version": 2
   },
   "file_extension": ".py",
   "mimetype": "text/x-python",
   "name": "python",
   "nbconvert_exporter": "python",
   "pygments_lexer": "ipython2",
   "version": "2.7.6"
  },
  "widgets": {
   "state": {},
   "version": "1.1.2"
  }
 },
 "nbformat": 4,
 "nbformat_minor": 2
}
